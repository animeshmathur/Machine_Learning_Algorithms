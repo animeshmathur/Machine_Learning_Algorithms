{
 "cells": [
  {
   "cell_type": "code",
   "execution_count": 1,
   "metadata": {},
   "outputs": [],
   "source": [
    "import numpy as np\n",
    "import pandas as pd\n",
    "import seaborn as sns\n",
    "import matplotlib.pyplot as plt\n",
    "%matplotlib inline\n",
    "from sklearn.preprocessing import StandardScaler\n",
    "from sklearn.linear_model import LogisticRegression\n",
    "from sklearn.model_selection import train_test_split\n",
    "from sklearn import metrics"
   ]
  },
  {
   "cell_type": "code",
   "execution_count": 2,
   "metadata": {},
   "outputs": [
    {
     "data": {
      "text/html": [
       "<div>\n",
       "<style scoped>\n",
       "    .dataframe tbody tr th:only-of-type {\n",
       "        vertical-align: middle;\n",
       "    }\n",
       "\n",
       "    .dataframe tbody tr th {\n",
       "        vertical-align: top;\n",
       "    }\n",
       "\n",
       "    .dataframe thead th {\n",
       "        text-align: right;\n",
       "    }\n",
       "</style>\n",
       "<table border=\"1\" class=\"dataframe\">\n",
       "  <thead>\n",
       "    <tr style=\"text-align: right;\">\n",
       "      <th></th>\n",
       "      <th>Pregnancies</th>\n",
       "      <th>Glucose</th>\n",
       "      <th>BloodPressure</th>\n",
       "      <th>SkinThickness</th>\n",
       "      <th>Insulin</th>\n",
       "      <th>BMI</th>\n",
       "      <th>DiabetesPedigreeFunction</th>\n",
       "      <th>Age</th>\n",
       "      <th>Outcome</th>\n",
       "    </tr>\n",
       "  </thead>\n",
       "  <tbody>\n",
       "    <tr>\n",
       "      <td>763</td>\n",
       "      <td>10</td>\n",
       "      <td>101</td>\n",
       "      <td>76</td>\n",
       "      <td>48</td>\n",
       "      <td>180</td>\n",
       "      <td>32.9</td>\n",
       "      <td>0.171</td>\n",
       "      <td>63</td>\n",
       "      <td>0</td>\n",
       "    </tr>\n",
       "    <tr>\n",
       "      <td>764</td>\n",
       "      <td>2</td>\n",
       "      <td>122</td>\n",
       "      <td>70</td>\n",
       "      <td>27</td>\n",
       "      <td>0</td>\n",
       "      <td>36.8</td>\n",
       "      <td>0.340</td>\n",
       "      <td>27</td>\n",
       "      <td>0</td>\n",
       "    </tr>\n",
       "    <tr>\n",
       "      <td>765</td>\n",
       "      <td>5</td>\n",
       "      <td>121</td>\n",
       "      <td>72</td>\n",
       "      <td>23</td>\n",
       "      <td>112</td>\n",
       "      <td>26.2</td>\n",
       "      <td>0.245</td>\n",
       "      <td>30</td>\n",
       "      <td>0</td>\n",
       "    </tr>\n",
       "    <tr>\n",
       "      <td>766</td>\n",
       "      <td>1</td>\n",
       "      <td>126</td>\n",
       "      <td>60</td>\n",
       "      <td>0</td>\n",
       "      <td>0</td>\n",
       "      <td>30.1</td>\n",
       "      <td>0.349</td>\n",
       "      <td>47</td>\n",
       "      <td>1</td>\n",
       "    </tr>\n",
       "    <tr>\n",
       "      <td>767</td>\n",
       "      <td>1</td>\n",
       "      <td>93</td>\n",
       "      <td>70</td>\n",
       "      <td>31</td>\n",
       "      <td>0</td>\n",
       "      <td>30.4</td>\n",
       "      <td>0.315</td>\n",
       "      <td>23</td>\n",
       "      <td>0</td>\n",
       "    </tr>\n",
       "  </tbody>\n",
       "</table>\n",
       "</div>"
      ],
      "text/plain": [
       "     Pregnancies  Glucose  BloodPressure  SkinThickness  Insulin   BMI  \\\n",
       "763           10      101             76             48      180  32.9   \n",
       "764            2      122             70             27        0  36.8   \n",
       "765            5      121             72             23      112  26.2   \n",
       "766            1      126             60              0        0  30.1   \n",
       "767            1       93             70             31        0  30.4   \n",
       "\n",
       "     DiabetesPedigreeFunction  Age  Outcome  \n",
       "763                     0.171   63        0  \n",
       "764                     0.340   27        0  \n",
       "765                     0.245   30        0  \n",
       "766                     0.349   47        1  \n",
       "767                     0.315   23        0  "
      ]
     },
     "execution_count": 2,
     "metadata": {},
     "output_type": "execute_result"
    }
   ],
   "source": [
    "df = pd.read_csv(\"./data/diabetes.csv\")\n",
    "df.tail()"
   ]
  },
  {
   "cell_type": "code",
   "execution_count": 3,
   "metadata": {},
   "outputs": [
    {
     "data": {
      "text/html": [
       "<div>\n",
       "<style scoped>\n",
       "    .dataframe tbody tr th:only-of-type {\n",
       "        vertical-align: middle;\n",
       "    }\n",
       "\n",
       "    .dataframe tbody tr th {\n",
       "        vertical-align: top;\n",
       "    }\n",
       "\n",
       "    .dataframe thead th {\n",
       "        text-align: right;\n",
       "    }\n",
       "</style>\n",
       "<table border=\"1\" class=\"dataframe\">\n",
       "  <thead>\n",
       "    <tr style=\"text-align: right;\">\n",
       "      <th></th>\n",
       "      <th>count</th>\n",
       "      <th>mean</th>\n",
       "      <th>std</th>\n",
       "      <th>min</th>\n",
       "      <th>25%</th>\n",
       "      <th>50%</th>\n",
       "      <th>75%</th>\n",
       "      <th>max</th>\n",
       "    </tr>\n",
       "  </thead>\n",
       "  <tbody>\n",
       "    <tr>\n",
       "      <td>Pregnancies</td>\n",
       "      <td>768.0</td>\n",
       "      <td>3.845052</td>\n",
       "      <td>3.369578</td>\n",
       "      <td>0.000</td>\n",
       "      <td>1.00000</td>\n",
       "      <td>3.0000</td>\n",
       "      <td>6.00000</td>\n",
       "      <td>17.00</td>\n",
       "    </tr>\n",
       "    <tr>\n",
       "      <td>Glucose</td>\n",
       "      <td>768.0</td>\n",
       "      <td>120.894531</td>\n",
       "      <td>31.972618</td>\n",
       "      <td>0.000</td>\n",
       "      <td>99.00000</td>\n",
       "      <td>117.0000</td>\n",
       "      <td>140.25000</td>\n",
       "      <td>199.00</td>\n",
       "    </tr>\n",
       "    <tr>\n",
       "      <td>BloodPressure</td>\n",
       "      <td>768.0</td>\n",
       "      <td>69.105469</td>\n",
       "      <td>19.355807</td>\n",
       "      <td>0.000</td>\n",
       "      <td>62.00000</td>\n",
       "      <td>72.0000</td>\n",
       "      <td>80.00000</td>\n",
       "      <td>122.00</td>\n",
       "    </tr>\n",
       "    <tr>\n",
       "      <td>SkinThickness</td>\n",
       "      <td>768.0</td>\n",
       "      <td>20.536458</td>\n",
       "      <td>15.952218</td>\n",
       "      <td>0.000</td>\n",
       "      <td>0.00000</td>\n",
       "      <td>23.0000</td>\n",
       "      <td>32.00000</td>\n",
       "      <td>99.00</td>\n",
       "    </tr>\n",
       "    <tr>\n",
       "      <td>Insulin</td>\n",
       "      <td>768.0</td>\n",
       "      <td>79.799479</td>\n",
       "      <td>115.244002</td>\n",
       "      <td>0.000</td>\n",
       "      <td>0.00000</td>\n",
       "      <td>30.5000</td>\n",
       "      <td>127.25000</td>\n",
       "      <td>846.00</td>\n",
       "    </tr>\n",
       "    <tr>\n",
       "      <td>BMI</td>\n",
       "      <td>768.0</td>\n",
       "      <td>31.992578</td>\n",
       "      <td>7.884160</td>\n",
       "      <td>0.000</td>\n",
       "      <td>27.30000</td>\n",
       "      <td>32.0000</td>\n",
       "      <td>36.60000</td>\n",
       "      <td>67.10</td>\n",
       "    </tr>\n",
       "    <tr>\n",
       "      <td>DiabetesPedigreeFunction</td>\n",
       "      <td>768.0</td>\n",
       "      <td>0.471876</td>\n",
       "      <td>0.331329</td>\n",
       "      <td>0.078</td>\n",
       "      <td>0.24375</td>\n",
       "      <td>0.3725</td>\n",
       "      <td>0.62625</td>\n",
       "      <td>2.42</td>\n",
       "    </tr>\n",
       "    <tr>\n",
       "      <td>Age</td>\n",
       "      <td>768.0</td>\n",
       "      <td>33.240885</td>\n",
       "      <td>11.760232</td>\n",
       "      <td>21.000</td>\n",
       "      <td>24.00000</td>\n",
       "      <td>29.0000</td>\n",
       "      <td>41.00000</td>\n",
       "      <td>81.00</td>\n",
       "    </tr>\n",
       "    <tr>\n",
       "      <td>Outcome</td>\n",
       "      <td>768.0</td>\n",
       "      <td>0.348958</td>\n",
       "      <td>0.476951</td>\n",
       "      <td>0.000</td>\n",
       "      <td>0.00000</td>\n",
       "      <td>0.0000</td>\n",
       "      <td>1.00000</td>\n",
       "      <td>1.00</td>\n",
       "    </tr>\n",
       "  </tbody>\n",
       "</table>\n",
       "</div>"
      ],
      "text/plain": [
       "                          count        mean         std     min       25%  \\\n",
       "Pregnancies               768.0    3.845052    3.369578   0.000   1.00000   \n",
       "Glucose                   768.0  120.894531   31.972618   0.000  99.00000   \n",
       "BloodPressure             768.0   69.105469   19.355807   0.000  62.00000   \n",
       "SkinThickness             768.0   20.536458   15.952218   0.000   0.00000   \n",
       "Insulin                   768.0   79.799479  115.244002   0.000   0.00000   \n",
       "BMI                       768.0   31.992578    7.884160   0.000  27.30000   \n",
       "DiabetesPedigreeFunction  768.0    0.471876    0.331329   0.078   0.24375   \n",
       "Age                       768.0   33.240885   11.760232  21.000  24.00000   \n",
       "Outcome                   768.0    0.348958    0.476951   0.000   0.00000   \n",
       "\n",
       "                               50%        75%     max  \n",
       "Pregnancies                 3.0000    6.00000   17.00  \n",
       "Glucose                   117.0000  140.25000  199.00  \n",
       "BloodPressure              72.0000   80.00000  122.00  \n",
       "SkinThickness              23.0000   32.00000   99.00  \n",
       "Insulin                    30.5000  127.25000  846.00  \n",
       "BMI                        32.0000   36.60000   67.10  \n",
       "DiabetesPedigreeFunction    0.3725    0.62625    2.42  \n",
       "Age                        29.0000   41.00000   81.00  \n",
       "Outcome                     0.0000    1.00000    1.00  "
      ]
     },
     "execution_count": 3,
     "metadata": {},
     "output_type": "execute_result"
    }
   ],
   "source": [
    "df.describe().T"
   ]
  },
  {
   "cell_type": "markdown",
   "metadata": {},
   "source": [
    "# Checking Correlations"
   ]
  },
  {
   "cell_type": "code",
   "execution_count": 4,
   "metadata": {},
   "outputs": [
    {
     "data": {
      "text/html": [
       "<div>\n",
       "<style scoped>\n",
       "    .dataframe tbody tr th:only-of-type {\n",
       "        vertical-align: middle;\n",
       "    }\n",
       "\n",
       "    .dataframe tbody tr th {\n",
       "        vertical-align: top;\n",
       "    }\n",
       "\n",
       "    .dataframe thead th {\n",
       "        text-align: right;\n",
       "    }\n",
       "</style>\n",
       "<table border=\"1\" class=\"dataframe\">\n",
       "  <thead>\n",
       "    <tr style=\"text-align: right;\">\n",
       "      <th></th>\n",
       "      <th>Pregnancies</th>\n",
       "      <th>Glucose</th>\n",
       "      <th>BloodPressure</th>\n",
       "      <th>SkinThickness</th>\n",
       "      <th>Insulin</th>\n",
       "      <th>BMI</th>\n",
       "      <th>DiabetesPedigreeFunction</th>\n",
       "      <th>Age</th>\n",
       "      <th>Outcome</th>\n",
       "    </tr>\n",
       "  </thead>\n",
       "  <tbody>\n",
       "    <tr>\n",
       "      <td>Pregnancies</td>\n",
       "      <td>1.000000</td>\n",
       "      <td>NaN</td>\n",
       "      <td>NaN</td>\n",
       "      <td>NaN</td>\n",
       "      <td>NaN</td>\n",
       "      <td>NaN</td>\n",
       "      <td>NaN</td>\n",
       "      <td>0.544341</td>\n",
       "      <td>NaN</td>\n",
       "    </tr>\n",
       "    <tr>\n",
       "      <td>Glucose</td>\n",
       "      <td>NaN</td>\n",
       "      <td>1.000000</td>\n",
       "      <td>NaN</td>\n",
       "      <td>NaN</td>\n",
       "      <td>0.331357</td>\n",
       "      <td>NaN</td>\n",
       "      <td>NaN</td>\n",
       "      <td>0.263514</td>\n",
       "      <td>0.466581</td>\n",
       "    </tr>\n",
       "    <tr>\n",
       "      <td>BloodPressure</td>\n",
       "      <td>NaN</td>\n",
       "      <td>NaN</td>\n",
       "      <td>1.000000</td>\n",
       "      <td>NaN</td>\n",
       "      <td>NaN</td>\n",
       "      <td>0.281805</td>\n",
       "      <td>NaN</td>\n",
       "      <td>NaN</td>\n",
       "      <td>NaN</td>\n",
       "    </tr>\n",
       "    <tr>\n",
       "      <td>SkinThickness</td>\n",
       "      <td>NaN</td>\n",
       "      <td>NaN</td>\n",
       "      <td>NaN</td>\n",
       "      <td>1.000000</td>\n",
       "      <td>0.436783</td>\n",
       "      <td>0.392573</td>\n",
       "      <td>NaN</td>\n",
       "      <td>NaN</td>\n",
       "      <td>NaN</td>\n",
       "    </tr>\n",
       "    <tr>\n",
       "      <td>Insulin</td>\n",
       "      <td>NaN</td>\n",
       "      <td>0.331357</td>\n",
       "      <td>NaN</td>\n",
       "      <td>0.436783</td>\n",
       "      <td>1.000000</td>\n",
       "      <td>NaN</td>\n",
       "      <td>NaN</td>\n",
       "      <td>NaN</td>\n",
       "      <td>NaN</td>\n",
       "    </tr>\n",
       "    <tr>\n",
       "      <td>BMI</td>\n",
       "      <td>NaN</td>\n",
       "      <td>NaN</td>\n",
       "      <td>0.281805</td>\n",
       "      <td>0.392573</td>\n",
       "      <td>NaN</td>\n",
       "      <td>1.000000</td>\n",
       "      <td>NaN</td>\n",
       "      <td>NaN</td>\n",
       "      <td>0.292695</td>\n",
       "    </tr>\n",
       "    <tr>\n",
       "      <td>DiabetesPedigreeFunction</td>\n",
       "      <td>NaN</td>\n",
       "      <td>NaN</td>\n",
       "      <td>NaN</td>\n",
       "      <td>NaN</td>\n",
       "      <td>NaN</td>\n",
       "      <td>NaN</td>\n",
       "      <td>1.0</td>\n",
       "      <td>NaN</td>\n",
       "      <td>NaN</td>\n",
       "    </tr>\n",
       "    <tr>\n",
       "      <td>Age</td>\n",
       "      <td>0.544341</td>\n",
       "      <td>0.263514</td>\n",
       "      <td>NaN</td>\n",
       "      <td>NaN</td>\n",
       "      <td>NaN</td>\n",
       "      <td>NaN</td>\n",
       "      <td>NaN</td>\n",
       "      <td>1.000000</td>\n",
       "      <td>NaN</td>\n",
       "    </tr>\n",
       "    <tr>\n",
       "      <td>Outcome</td>\n",
       "      <td>NaN</td>\n",
       "      <td>0.466581</td>\n",
       "      <td>NaN</td>\n",
       "      <td>NaN</td>\n",
       "      <td>NaN</td>\n",
       "      <td>0.292695</td>\n",
       "      <td>NaN</td>\n",
       "      <td>NaN</td>\n",
       "      <td>1.000000</td>\n",
       "    </tr>\n",
       "  </tbody>\n",
       "</table>\n",
       "</div>"
      ],
      "text/plain": [
       "                          Pregnancies   Glucose  BloodPressure  SkinThickness  \\\n",
       "Pregnancies                  1.000000       NaN            NaN            NaN   \n",
       "Glucose                           NaN  1.000000            NaN            NaN   \n",
       "BloodPressure                     NaN       NaN       1.000000            NaN   \n",
       "SkinThickness                     NaN       NaN            NaN       1.000000   \n",
       "Insulin                           NaN  0.331357            NaN       0.436783   \n",
       "BMI                               NaN       NaN       0.281805       0.392573   \n",
       "DiabetesPedigreeFunction          NaN       NaN            NaN            NaN   \n",
       "Age                          0.544341  0.263514            NaN            NaN   \n",
       "Outcome                           NaN  0.466581            NaN            NaN   \n",
       "\n",
       "                           Insulin       BMI  DiabetesPedigreeFunction  \\\n",
       "Pregnancies                    NaN       NaN                       NaN   \n",
       "Glucose                   0.331357       NaN                       NaN   \n",
       "BloodPressure                  NaN  0.281805                       NaN   \n",
       "SkinThickness             0.436783  0.392573                       NaN   \n",
       "Insulin                   1.000000       NaN                       NaN   \n",
       "BMI                            NaN  1.000000                       NaN   \n",
       "DiabetesPedigreeFunction       NaN       NaN                       1.0   \n",
       "Age                            NaN       NaN                       NaN   \n",
       "Outcome                        NaN  0.292695                       NaN   \n",
       "\n",
       "                               Age   Outcome  \n",
       "Pregnancies               0.544341       NaN  \n",
       "Glucose                   0.263514  0.466581  \n",
       "BloodPressure                  NaN       NaN  \n",
       "SkinThickness                  NaN       NaN  \n",
       "Insulin                        NaN       NaN  \n",
       "BMI                            NaN  0.292695  \n",
       "DiabetesPedigreeFunction       NaN       NaN  \n",
       "Age                       1.000000       NaN  \n",
       "Outcome                        NaN  1.000000  "
      ]
     },
     "execution_count": 4,
     "metadata": {},
     "output_type": "execute_result"
    }
   ],
   "source": [
    "correlations = df.corr()\n",
    "correlations[correlations > 0.25]"
   ]
  },
  {
   "cell_type": "code",
   "execution_count": 5,
   "metadata": {},
   "outputs": [],
   "source": [
    "def visualizeCorr(data, x_col, y_col):\n",
    "    fig, ax = plt.subplots()\n",
    "    ax.scatter(data[x_col].values, data[y_col].values)"
   ]
  },
  {
   "cell_type": "code",
   "execution_count": 6,
   "metadata": {},
   "outputs": [
    {
     "data": {
      "image/png": "[encoded data removed]",
      "text/plain": [
       "<Figure size 432x288 with 1 Axes>"
      ]
     },
     "metadata": {
      "needs_background": "light"
     },
     "output_type": "display_data"
    }
   ],
   "source": [
    "visualizeCorr(df, 'SkinThickness', 'BMI')"
   ]
  },
  {
   "cell_type": "code",
   "execution_count": 7,
   "metadata": {},
   "outputs": [
    {
     "data": {
      "image/png": "[encoded data removed]",
      "text/plain": [
       "<Figure size 432x288 with 1 Axes>"
      ]
     },
     "metadata": {
      "needs_background": "light"
     },
     "output_type": "display_data"
    }
   ],
   "source": [
    "visualizeCorr(df, 'Glucose', 'BloodPressure')"
   ]
  },
  {
   "cell_type": "code",
   "execution_count": 8,
   "metadata": {},
   "outputs": [
    {
     "data": {
      "image/png": "[encoded data removed]",
      "text/plain": [
       "<Figure size 432x288 with 1 Axes>"
      ]
     },
     "metadata": {
      "needs_background": "light"
     },
     "output_type": "display_data"
    }
   ],
   "source": [
    "visualizeCorr(df, 'Glucose', 'BMI')"
   ]
  },
  {
   "cell_type": "markdown",
   "metadata": {},
   "source": [
    "# Replacing the Zeros with Null values"
   ]
  },
  {
   "cell_type": "code",
   "execution_count": 9,
   "metadata": {},
   "outputs": [
    {
     "data": {
      "image/png": "[encoded data removed]",
      "text/plain": [
       "<Figure size 432x288 with 1 Axes>"
      ]
     },
     "metadata": {
      "needs_background": "light"
     },
     "output_type": "display_data"
    }
   ],
   "source": [
    "df[['SkinThickness', 'BMI']] = df[['SkinThickness', 'BMI']].replace(0, np.NaN)\n",
    "df.dropna(inplace=True)\n",
    "visualizeCorr(df, 'SkinThickness', 'BMI')"
   ]
  },
  {
   "cell_type": "code",
   "execution_count": 10,
   "metadata": {},
   "outputs": [
    {
     "data": {
      "image/png": "[encoded data removed]",
      "text/plain": [
       "<Figure size 432x288 with 1 Axes>"
      ]
     },
     "metadata": {
      "needs_background": "light"
     },
     "output_type": "display_data"
    }
   ],
   "source": [
    "df[['Glucose', 'BloodPressure']] = df[['Glucose', 'BloodPressure']].replace(0, np.NaN)\n",
    "df.dropna(inplace=True)\n",
    "visualizeCorr(df, 'Glucose', 'BloodPressure')"
   ]
  },
  {
   "cell_type": "code",
   "execution_count": 11,
   "metadata": {},
   "outputs": [
    {
     "data": {
      "text/html": [
       "<div>\n",
       "<style scoped>\n",
       "    .dataframe tbody tr th:only-of-type {\n",
       "        vertical-align: middle;\n",
       "    }\n",
       "\n",
       "    .dataframe tbody tr th {\n",
       "        vertical-align: top;\n",
       "    }\n",
       "\n",
       "    .dataframe thead th {\n",
       "        text-align: right;\n",
       "    }\n",
       "</style>\n",
       "<table border=\"1\" class=\"dataframe\">\n",
       "  <thead>\n",
       "    <tr style=\"text-align: right;\">\n",
       "      <th></th>\n",
       "      <th>SkinThickness</th>\n",
       "      <th>BMI</th>\n",
       "    </tr>\n",
       "  </thead>\n",
       "  <tbody>\n",
       "    <tr>\n",
       "      <td>0</td>\n",
       "      <td>35.0</td>\n",
       "      <td>33.6</td>\n",
       "    </tr>\n",
       "    <tr>\n",
       "      <td>1</td>\n",
       "      <td>29.0</td>\n",
       "      <td>26.6</td>\n",
       "    </tr>\n",
       "    <tr>\n",
       "      <td>3</td>\n",
       "      <td>23.0</td>\n",
       "      <td>28.1</td>\n",
       "    </tr>\n",
       "    <tr>\n",
       "      <td>4</td>\n",
       "      <td>35.0</td>\n",
       "      <td>43.1</td>\n",
       "    </tr>\n",
       "    <tr>\n",
       "      <td>6</td>\n",
       "      <td>32.0</td>\n",
       "      <td>31.0</td>\n",
       "    </tr>\n",
       "    <tr>\n",
       "      <td>...</td>\n",
       "      <td>...</td>\n",
       "      <td>...</td>\n",
       "    </tr>\n",
       "    <tr>\n",
       "      <td>761</td>\n",
       "      <td>31.0</td>\n",
       "      <td>44.0</td>\n",
       "    </tr>\n",
       "    <tr>\n",
       "      <td>763</td>\n",
       "      <td>48.0</td>\n",
       "      <td>32.9</td>\n",
       "    </tr>\n",
       "    <tr>\n",
       "      <td>764</td>\n",
       "      <td>27.0</td>\n",
       "      <td>36.8</td>\n",
       "    </tr>\n",
       "    <tr>\n",
       "      <td>765</td>\n",
       "      <td>23.0</td>\n",
       "      <td>26.2</td>\n",
       "    </tr>\n",
       "    <tr>\n",
       "      <td>767</td>\n",
       "      <td>31.0</td>\n",
       "      <td>30.4</td>\n",
       "    </tr>\n",
       "  </tbody>\n",
       "</table>\n",
       "<p>532 rows × 2 columns</p>\n",
       "</div>"
      ],
      "text/plain": [
       "     SkinThickness   BMI\n",
       "0             35.0  33.6\n",
       "1             29.0  26.6\n",
       "3             23.0  28.1\n",
       "4             35.0  43.1\n",
       "6             32.0  31.0\n",
       "..             ...   ...\n",
       "761           31.0  44.0\n",
       "763           48.0  32.9\n",
       "764           27.0  36.8\n",
       "765           23.0  26.2\n",
       "767           31.0  30.4\n",
       "\n",
       "[532 rows x 2 columns]"
      ]
     },
     "execution_count": 11,
     "metadata": {},
     "output_type": "execute_result"
    }
   ],
   "source": [
    "df[['SkinThickness', 'BMI']]"
   ]
  },
  {
   "cell_type": "code",
   "execution_count": 12,
   "metadata": {},
   "outputs": [
    {
     "name": "stdout",
     "output_type": "stream",
     "text": [
      "Unique values in Pregnancies\n",
      "[ 6  1  0  3  2  5  9 11 10 13  4  7  8 15 17 12 14]\n",
      "---------------\n",
      "Unique values in Glucose\n",
      "[148.  85.  89. 137.  78. 197. 189. 166. 118. 103. 115. 126. 119. 143.\n",
      " 125.  97. 145. 109. 158.  88. 122. 102.  90. 111. 180. 106. 171.  71.\n",
      " 101. 176. 150.  73. 187. 100. 105. 141.  99.  95. 146. 139. 129.  79.\n",
      " 112. 113.  83. 110. 136. 107. 123.  81. 142. 144.  92.  93. 155. 160.\n",
      " 162. 120. 117. 173. 170.  84.  96. 108. 154.  57. 156. 153. 152. 163.\n",
      " 151. 114. 104. 134.  75. 179. 194. 181. 128. 196. 184. 147. 140. 177.\n",
      "  87.  74. 164.  91. 165. 124.  86. 193. 191. 133.  77. 161.  80. 157.\n",
      " 130.  61.  98. 116. 131. 127.  72. 172. 138.  94. 135.  82. 175. 132.\n",
      " 195.  68. 186. 198. 121. 188. 174. 168. 167. 199.  56. 169. 149.  65.]\n",
      "---------------\n",
      "Unique values in BloodPressure\n",
      "[ 72.  66.  40.  50.  70.  60.  84.  30.  88.  80.  94.  82.  75.  76.\n",
      "  58.  78.  68.  64.  92. 110.  90.  74.  85.  86.  44.  65.  62.  48.\n",
      "  56.  54.  52.  98.  55.  95.  46. 108. 102. 100. 104.  24.  38. 106.]\n",
      "---------------\n",
      "Unique values in SkinThickness\n",
      "[35. 29. 23. 32. 45. 19. 47. 38. 30. 41. 33. 26. 15. 36. 11. 31. 37. 42.\n",
      " 25. 18. 24. 39. 27. 21. 34. 10. 60. 13. 20. 22. 28. 54. 40. 51. 56. 14.\n",
      " 17. 50. 44. 12. 46. 16.  7. 52. 43. 48.  8. 49. 63. 99.]\n",
      "---------------\n",
      "Unique values in Insulin\n",
      "[  0  94 168  88 543 846 175 230  83  96 235 146 115 140 110 245  54 192\n",
      " 207  70 240  82  36  23 300 342 304 142 128  38 100  90 270  71 125 176\n",
      "  48  64 228  76 220  40 152  18 135 495  37  51  99 145 225  49  50  92\n",
      " 325  63 284 119 204 155 485  53 114 105 285 156  78 130  55  58 160 210\n",
      " 318  44 190 280  87 271 129 120 478  56  32 744 370  45 194 680 402 258\n",
      " 375 150  67  57 116 278 122 545  75  74 182 360 215 184  42 132 148 180\n",
      " 205  85 231  29  68  52 255 171  73 108  43 167 249 293  66 465 158  84\n",
      "  72  59  81 196 415 275 165 579 310  61 474 170 277  60  14  95 237 191\n",
      " 328 250 480 265 193  79  86 326 188 106  65 166 274  77 126 330 600 185\n",
      "  25  41 272 321 144  15 183  91  46 440 159 540 200 335 387  22 291 392\n",
      " 178 127 510  16 112]\n",
      "---------------\n",
      "Unique values in BMI\n",
      "[33.6 26.6 28.1 43.1 31.  30.5 30.1 25.8 45.8 43.3 34.6 39.3 29.  36.6\n",
      " 31.1 23.2 22.2 36.  31.6 24.8 27.6 24.  32.9 38.2 37.1 34.  22.7 45.4\n",
      " 42.  28.  39.1 19.4 24.2 24.4 33.7 34.7 23.  37.7 46.8 41.5 25.4 32.5\n",
      " 19.6 28.9 28.6 35.1 32.  25.  22.4 29.3 24.6 32.4 38.5 26.5 46.7 24.7\n",
      " 33.9 20.4 28.7 49.7 29.5 34.3 37.4 33.3 31.2 28.2 53.2 34.2 55.  42.9\n",
      " 34.5 29.7 38.3 21.1 33.8 30.8 36.9 39.5 32.8 27.3 40.6 50.  25.2 40.9\n",
      " 37.2 44.2 29.9 28.4 35.4 43.5 32.7 67.1 34.9 35.9 27.9 33.1 39.4 22.9\n",
      " 34.8 30.9 23.9 37.5 33.2 35.5 27.7 42.8 42.6 41.8 35.8 30.  28.8 23.6\n",
      " 36.7 45.2 46.2 44.1 29.2 27.1 52.3 25.9 32.1 40.  45.6 40.5 27.8 25.3\n",
      " 26.  38.7 20.8 36.1 30.7 39.7 25.5 26.2 34.1 19.3 38.1 27.5 27.4 26.8\n",
      " 35.7 25.6 45.5 23.1 47.9 21.8 34.4 27.2 35.3 36.5 39.2 21.  38.4 36.2\n",
      " 43.4 20.  25.1 24.3 22.3 32.3 23.7 22.1 35.  42.1 42.4 26.4 45.3 37.\n",
      " 30.4 24.5 18.2 32.2 59.4 21.2 39.9 37.8 30.2 37.6 36.8 46.1 41.3 38.8\n",
      " 23.8 35.2 42.3 40.7 46.5 33.5 37.3 30.3 26.3 29.8 36.3 36.4 43.6 28.5\n",
      " 31.9 26.9 26.1 38.6 31.3 22.5 19.5 20.1 23.4 28.3 38.9 37.9 57.3 49.6\n",
      " 44.6 24.1 39.8 38.  29.6 41.2 35.6 44.5 49.3 46.3 39.  44. ]\n",
      "---------------\n",
      "Unique values in DiabetesPedigreeFunction\n",
      "[0.627 0.351 0.167 2.288 0.248 0.158 0.398 0.587 0.551 0.183 0.529 0.704\n",
      " 0.263 0.254 0.205 0.487 0.245 0.546 0.851 0.267 0.512 0.966 0.665 0.503\n",
      " 1.39  0.271 0.235 0.721 1.893 0.586 0.344 0.491 0.526 0.342 0.467 0.718\n",
      " 0.962 0.173 0.699 0.203 0.855 0.334 0.189 0.867 0.411 0.231 0.396 0.37\n",
      " 0.307 0.14  0.767 0.237 0.698 0.178 0.324 0.153 0.165 0.443 0.261 0.761\n",
      " 0.255 0.13  0.323 0.356 0.325 0.283 0.801 0.287 0.336 0.247 0.199 0.543\n",
      " 0.192 0.588 0.223 0.759 0.26  0.404 0.496 0.452 0.403 0.361 0.457 0.647\n",
      " 0.088 0.597 0.532 0.159 0.286 0.318 0.096 1.4   0.085 0.399 1.189 0.687\n",
      " 0.337 0.637 0.833 0.229 0.817 0.294 0.204 0.368 0.722 0.256 0.495 0.542\n",
      " 0.678 0.719 0.319 0.725 0.745 0.615 1.321 0.64  0.374 0.136 0.395 0.905\n",
      " 0.15  0.874 0.787 0.407 0.605 0.289 0.355 0.29  0.375 0.164 0.431 0.742\n",
      " 0.514 0.464 1.224 1.072 0.666 0.101 0.652 2.329 0.089 0.238 0.583 0.293\n",
      " 0.686 0.831 0.446 1.318 0.329 1.213 0.427 0.282 0.143 0.249 0.926 0.557\n",
      " 0.092 0.655 1.353 0.299 0.612 0.2   0.997 1.101 1.136 0.128 0.422 0.677\n",
      " 0.296 0.454 0.881 0.28  0.262 0.619 0.808 0.34  0.434 0.757 0.613 0.692\n",
      " 0.52  0.412 0.156 0.215 0.326 1.391 0.875 0.313 0.433 0.626 1.127 0.315\n",
      " 0.284 0.527 0.197 0.731 0.148 0.123 0.127 0.122 1.476 0.166 0.259 0.893\n",
      " 0.472 0.673 0.349 0.654 0.279 0.243 0.58  0.378 0.305 0.385 0.499 0.252\n",
      " 0.306 0.234 2.137 0.545 0.225 0.816 0.528 0.509 1.021 0.821 0.236 0.947\n",
      " 1.268 0.221 0.66  0.239 0.949 0.444 0.389 0.463 1.6   0.944 0.196 0.241\n",
      " 0.702 0.674 1.076 0.534 0.258 1.095 0.554 0.219 0.507 0.561 0.421 0.516\n",
      " 0.264 0.328 0.233 1.138 0.244 0.147 0.435 0.497 0.23  0.38  2.42  0.658\n",
      " 0.33  0.51  0.285 0.415 0.381 0.498 0.212 0.364 1.001 0.46  0.733 0.705\n",
      " 0.269 0.6   0.571 0.607 0.17  0.711 0.466 0.162 0.419 0.365 0.536 1.159\n",
      " 0.629 0.292 0.145 1.144 0.547 0.163 0.839 0.738 0.314 0.968 0.297 0.207\n",
      " 0.154 0.268 0.771 0.582 0.187 0.107 0.493 0.717 0.917 1.251 0.804 0.661\n",
      " 0.549 0.825 0.423 1.034 0.16  0.341 0.68  0.591 0.471 0.161 0.218 0.126\n",
      " 0.502 0.401 0.748 0.338 0.43  0.198 0.892 0.813 0.575 0.371 0.206 0.417\n",
      " 1.154 0.925 0.175 1.699 0.682 0.559 0.4   0.1   1.258 0.482 0.27  0.138\n",
      " 0.593 0.878 0.257 1.282 0.246 1.698 0.347 0.362 0.115 0.649 0.871 0.149\n",
      " 0.695 0.73  0.134 0.447 0.455 0.133 0.142 0.24  0.155 1.162 1.292 1.394\n",
      " 0.217 0.141 0.631 0.88  0.614 0.332 0.366 0.181 0.828 0.335 0.886 0.439\n",
      " 0.598 0.483 0.565 0.118 0.177 0.176 0.295 0.441 0.352 0.826 0.97  0.595\n",
      " 0.317 0.251 0.646 0.426 0.515 0.453 0.785 1.174 0.488 0.358 1.096 0.408\n",
      " 0.222 1.057 0.391 0.766 0.171]\n",
      "---------------\n",
      "Unique values in Age\n",
      "[50 31 21 33 26 53 59 51 32 27 29 41 22 57 60 28 45 46 56 48 54 25 30 58\n",
      " 42 24 38 23 36 43 34 40 37 39 47 55 61 49 44 63 35 65 81 62 52 70]\n",
      "---------------\n",
      "Unique values in Outcome\n",
      "[1 0]\n",
      "---------------\n"
     ]
    }
   ],
   "source": [
    "for col in df.columns:\n",
    "    print(\"Unique values in\", col)\n",
    "    print(df[col].unique())\n",
    "    print('-----' * 3)"
   ]
  },
  {
   "cell_type": "markdown",
   "metadata": {},
   "source": [
    "# Feature Selection"
   ]
  },
  {
   "cell_type": "code",
   "execution_count": 13,
   "metadata": {},
   "outputs": [],
   "source": [
    "X = df[['Pregnancies', 'Glucose', 'BloodPressure', 'SkinThickness', 'Insulin',\n",
    "        'BMI', 'DiabetesPedigreeFunction']].values\n",
    "\n",
    "y = df[['Outcome']].values"
   ]
  },
  {
   "cell_type": "markdown",
   "metadata": {},
   "source": [
    "# Standardization and Scaling of features"
   ]
  },
  {
   "cell_type": "code",
   "execution_count": 14,
   "metadata": {},
   "outputs": [
    {
     "name": "stdout",
     "output_type": "stream",
     "text": [
      "[[ 0.75042054  0.87083814  0.04019626  0.5533269  -0.93569006  0.10324534\n",
      "   0.36033064]\n",
      " [-0.7606458  -1.16338343 -0.44766104 -0.01734175 -0.93569006 -0.91498999\n",
      "  -0.44147685]\n",
      " [-0.7606458  -1.0342265  -0.44766104 -0.58801039 -0.17079013 -0.69679671\n",
      "  -0.97601517]\n",
      " [-1.06285907  0.5156566  -2.56170935  0.5533269   0.43136514  1.48513616\n",
      "   5.18570108]\n",
      " [-0.15621926 -1.38940805 -1.74861385  0.26799257 -0.21961353 -0.27495635\n",
      "  -0.7407021 ]\n",
      " [-0.45843253  2.45301047 -0.12242284  1.5044413   3.48282763 -0.34768745\n",
      "  -1.00216107]\n",
      " [-0.7606458   2.19469662 -0.93551834 -0.58801039  5.94840933 -0.40587232\n",
      "  -0.30493716]\n",
      " [ 0.44820727  1.4520443   0.04019626 -0.96845615  0.48832577 -1.03135975\n",
      "   0.24412666]\n",
      " [-1.06285907 -0.0978388   1.01591087  1.69466418  0.93587361  1.87788408\n",
      "   0.13954307]\n",
      " [-0.7606458  -0.58217727 -3.37480485  0.83866122 -0.26029969  1.5142286\n",
      "  -0.92953358]]\n"
     ]
    }
   ],
   "source": [
    "sc = StandardScaler()\n",
    "X = sc.fit_transform(X)\n",
    "print(X[:10])"
   ]
  },
  {
   "cell_type": "code",
   "execution_count": 15,
   "metadata": {},
   "outputs": [
    {
     "name": "stdout",
     "output_type": "stream",
     "text": [
      "Mean: (0, 0)\n"
     ]
    }
   ],
   "source": [
    "mean = np.mean(X, axis=0)\n",
    "print(\"Mean: (%d, %d)\" % (mean[0], mean[1]))"
   ]
  },
  {
   "cell_type": "code",
   "execution_count": 16,
   "metadata": {},
   "outputs": [
    {
     "name": "stdout",
     "output_type": "stream",
     "text": [
      "Standard Deviation: (1, 1)\n"
     ]
    }
   ],
   "source": [
    "std_deviation = np.std(X, axis=0)\n",
    "print(\"Standard Deviation: (%d, %d)\" % (std_deviation[0], std_deviation[1]))"
   ]
  },
  {
   "cell_type": "markdown",
   "metadata": {},
   "source": [
    "# Train-Test Split"
   ]
  },
  {
   "cell_type": "code",
   "execution_count": 26,
   "metadata": {},
   "outputs": [],
   "source": [
    "X_train, X_test, y_train, y_test = train_test_split(X, y, test_size = 0.2)"
   ]
  },
  {
   "cell_type": "markdown",
   "metadata": {},
   "source": [
    "# Logistic Regression Model"
   ]
  },
  {
   "cell_type": "code",
   "execution_count": 18,
   "metadata": {},
   "outputs": [],
   "source": [
    "# instantiate model\n",
    "logit = LogisticRegression()"
   ]
  },
  {
   "cell_type": "code",
   "execution_count": 19,
   "metadata": {},
   "outputs": [
    {
     "name": "stderr",
     "output_type": "stream",
     "text": [
      "/home/animathur/anaconda3/lib/python3.7/site-packages/sklearn/linear_model/logistic.py:432: FutureWarning: Default solver will be changed to 'lbfgs' in 0.22. Specify a solver to silence this warning.\n",
      "  FutureWarning)\n",
      "/home/animathur/anaconda3/lib/python3.7/site-packages/sklearn/utils/validation.py:724: DataConversionWarning: A column-vector y was passed when a 1d array was expected. Please change the shape of y to (n_samples, ), for example using ravel().\n",
      "  y = column_or_1d(y, warn=True)\n"
     ]
    },
    {
     "data": {
      "text/plain": [
       "LogisticRegression(C=1.0, class_weight=None, dual=False, fit_intercept=True,\n",
       "                   intercept_scaling=1, l1_ratio=None, max_iter=100,\n",
       "                   multi_class='warn', n_jobs=None, penalty='l2',\n",
       "                   random_state=None, solver='warn', tol=0.0001, verbose=0,\n",
       "                   warm_start=False)"
      ]
     },
     "execution_count": 19,
     "metadata": {},
     "output_type": "execute_result"
    }
   ],
   "source": [
    "# fit model with data\n",
    "logit.fit(X_train, y_train)"
   ]
  },
  {
   "cell_type": "code",
   "execution_count": 20,
   "metadata": {},
   "outputs": [
    {
     "data": {
      "text/plain": [
       "array([1, 0, 0, 0, 0, 0, 0, 1, 0, 1, 1, 1, 0, 0, 1, 0, 0, 1, 0, 0, 1, 0,\n",
       "       0, 0, 0, 1, 0, 0, 1, 0, 1, 0, 1, 0, 0, 0, 1, 0, 1, 0, 0, 0, 0, 0,\n",
       "       1, 0, 0, 0, 0, 0, 0, 0, 0, 1, 0, 0, 0, 0, 0, 1, 0, 0, 1, 0, 0, 0,\n",
       "       0, 1, 1, 0, 0, 0, 1, 0, 0, 1, 0, 1, 0, 0, 0, 0, 0, 0, 0, 0, 0, 0,\n",
       "       0, 0, 1, 0, 0, 0, 1, 0, 0, 1, 0, 0, 0, 1, 1, 1, 0, 1, 0, 0, 0, 0,\n",
       "       1, 0, 1, 0, 0, 1, 0, 0, 1, 0, 1, 0, 0, 0, 0, 1, 0, 0, 0, 0, 1, 1,\n",
       "       0, 1, 0, 1, 0, 0, 1, 0, 1, 1, 0, 0, 1, 0, 0, 1, 1, 0, 0, 0, 0, 1,\n",
       "       0, 0, 1, 1, 0, 0])"
      ]
     },
     "execution_count": 20,
     "metadata": {},
     "output_type": "execute_result"
    }
   ],
   "source": [
    "# Predictions\n",
    "y_pred = logit.predict(X_test)\n",
    "y_pred"
   ]
  },
  {
   "cell_type": "markdown",
   "metadata": {},
   "source": [
    "# Confusion Matrix"
   ]
  },
  {
   "cell_type": "code",
   "execution_count": 21,
   "metadata": {},
   "outputs": [
    {
     "data": {
      "text/plain": [
       "array([[89, 11],\n",
       "       [22, 38]])"
      ]
     },
     "execution_count": 21,
     "metadata": {},
     "output_type": "execute_result"
    }
   ],
   "source": [
    "cnf_matrix = metrics.confusion_matrix(y_test, y_pred)\n",
    "cnf_matrix"
   ]
  },
  {
   "cell_type": "code",
   "execution_count": 22,
   "metadata": {},
   "outputs": [
    {
     "data": {
      "image/png": "[encoded data removed]",
      "text/plain": [
       "<Figure size 432x288 with 2 Axes>"
      ]
     },
     "metadata": {
      "needs_background": "light"
     },
     "output_type": "display_data"
    }
   ],
   "source": [
    "class_names = [0, 1] # name of classes in target variable\n",
    "fig, ax = plt.subplots()\n",
    "tick_marks = np.arange(len(class_names))\n",
    "plt.xticks(tick_marks, class_names)\n",
    "plt.yticks(tick_marks, class_names)\n",
    "\n",
    "# create heatmap\n",
    "sns.heatmap(pd.DataFrame(cnf_matrix), cmap='YlGnBu', fmt='g', annot=True)\n",
    "ax.xaxis.set_label_position(\"top\")\n",
    "plt.title('Confusion matrix')\n",
    "plt.ylabel('Actual label')\n",
    "plt.xlabel('Predicted label')\n",
    "plt.tight_layout()\n"
   ]
  },
  {
   "cell_type": "markdown",
   "metadata": {},
   "source": [
    "# Performance"
   ]
  },
  {
   "cell_type": "code",
   "execution_count": 23,
   "metadata": {},
   "outputs": [
    {
     "name": "stdout",
     "output_type": "stream",
     "text": [
      "Accuracy:  0.79375\n",
      "Precision:  0.7755102040816326\n",
      "Recall:  0.6333333333333333\n"
     ]
    }
   ],
   "source": [
    "print(\"Accuracy: \", metrics.accuracy_score(y_test, y_pred))\n",
    "print(\"Precision: \", metrics.precision_score(y_test, y_pred))\n",
    "print(\"Recall: \", metrics.recall_score(y_test, y_pred))"
   ]
  },
  {
   "cell_type": "code",
   "execution_count": 24,
   "metadata": {},
   "outputs": [],
   "source": [
    "y_pred_proba = logit.predict_proba(X_test)[::,1]\n",
    "fpr, tpr, _ = metrics.roc_curve(y_test, y_pred_proba)\n",
    "auc = metrics.roc_auc_score(y_test, y_pred_proba)"
   ]
  },
  {
   "cell_type": "code",
   "execution_count": 25,
   "metadata": {},
   "outputs": [
    {
     "data": {
      "image/png": "[encoded data removed]",
      "text/plain": [
       "<Figure size 432x288 with 1 Axes>"
      ]
     },
     "metadata": {
      "needs_background": "light"
     },
     "output_type": "display_data"
    }
   ],
   "source": [
    "plt.plot(fpr, tpr, label=\"Data 1, AUC = \"+str(auc))\n",
    "plt.legend(loc=4)\n",
    "plt.show()"
   ]
  },
  {
   "cell_type": "code",
   "execution_count": null,
   "metadata": {},
   "outputs": [],
   "source": []
  }
 ],
 "metadata": {
  "kernelspec": {
   "display_name": "Python 3",
   "language": "python",
   "name": "python3"
  },
  "language_info": {
   "codemirror_mode": {
    "name": "ipython",
    "version": 3
   },
   "file_extension": ".py",
   "mimetype": "text/x-python",
   "name": "python",
   "nbconvert_exporter": "python",
   "pygments_lexer": "ipython3",
   "version": "3.7.3"
  }
 },
 "nbformat": 4,
 "nbformat_minor": 2
}
